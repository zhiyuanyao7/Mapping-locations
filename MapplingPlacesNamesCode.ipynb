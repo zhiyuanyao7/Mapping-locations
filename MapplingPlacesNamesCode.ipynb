{
 "cells": [
  {
   "cell_type": "markdown",
   "metadata": {},
   "source": [
    "## Reproducibility in Exploring Spatial Patterns"
   ]
  },
  {
   "cell_type": "markdown",
   "metadata": {},
   "source": [
    "We visualized the geographic places that mentioned in the eleven testimonies and tried to explore the spatial patterns of these\n",
    "places to identify the possible strategic moving plan for these Holocaust survivors. \n",
    "\n",
    "In terms of the reproducibility, we build up a detailed workflow that illustrates the procedures step by step with solid justifications. \n",
    "\n",
    "The following workflow illustrates how we extract geographic names and explore the spaital patterns. "
   ]
  },
  {
   "cell_type": "code",
   "execution_count": 1,
   "metadata": {},
   "outputs": [
    {
     "name": "stderr",
     "output_type": "stream",
     "text": [
      "/opt/conda/envs/python2/lib/python2.7/site-packages/folium/__init__.py:59: UserWarning: This version of folium is the last to support Python 2. Transition to Python 3 to be able to receive updates and fixes. Check out https://python3statement.org/ for more info.\n",
      "  UserWarning\n"
     ]
    }
   ],
   "source": [
    "\n",
    "%matplotlib inline\n",
    "import os\n",
    "from datetime import datetime\n",
    "\n",
    "# set environment variable needed for basemap\n",
    "\n",
    "os.environ[\"PROJ_LIB\"] = '/opt/conda/envs/python2/share/proj'\n",
    "\n",
    "import numpy as np\n",
    "import mpl_toolkits\n",
    "\n",
    "import pandas as pd\n",
    "import geopandas as gpd\n",
    "from geopandas import GeoSeries, GeoDataFrame\n",
    "from shapely.geometry import Point\n",
    "\n",
    "import matplotlib.pyplot as plt\n",
    "import matplotlib.patches as patches\n",
    "from mpl_toolkits.basemap import Basemap\n",
    "import matplotlib.pyplot as plt\n",
    "\n",
    "import json\n",
    "import mplleaflet\n",
    "import folium"
   ]
  },
  {
   "cell_type": "code",
   "execution_count": 2,
   "metadata": {},
   "outputs": [],
   "source": [
    "%matplotlib inline\n",
    "import os\n",
    "import geopandas as gpd\n",
    "import pandas as pd\n",
    "import numpy as np\n",
    "import shapely"
   ]
  },
  {
   "cell_type": "code",
   "execution_count": 3,
   "metadata": {
    "scrolled": false
   },
   "outputs": [
    {
     "data": {
      "text/plain": [
       "geopandas.geodataframe.GeoDataFrame"
      ]
     },
     "execution_count": 3,
     "metadata": {},
     "output_type": "execute_result"
    }
   ],
   "source": [
    "# read shapefile \n",
    "# arr = os.listdir()\n",
    "# print(arr)\n",
    "# f = []\n",
    "# for (dirpath, dirnames, filenames) in os.walk(\".\"):\n",
    "#     f.extend(filenames)\n",
    "#     break\n",
    "# print os.path.join(\"./\",\"Cities_Merge5.shp\")\n",
    "cities_shp=gpd.read_file(os.path.join(\"./\",\"Cities_Merge5.shp\"))\n",
    "# cities_shp=gpd.read_file(\"Cities_Merge5.shp\")\n",
    "type(cities_shp)"
   ]
  },
  {
   "cell_type": "code",
   "execution_count": 4,
   "metadata": {},
   "outputs": [
    {
     "data": {
      "text/html": [
       "<div>\n",
       "<style scoped>\n",
       "    .dataframe tbody tr th:only-of-type {\n",
       "        vertical-align: middle;\n",
       "    }\n",
       "\n",
       "    .dataframe tbody tr th {\n",
       "        vertical-align: top;\n",
       "    }\n",
       "\n",
       "    .dataframe thead th {\n",
       "        text-align: right;\n",
       "    }\n",
       "</style>\n",
       "<table border=\"1\" class=\"dataframe\">\n",
       "  <thead>\n",
       "    <tr style=\"text-align: right;\">\n",
       "      <th></th>\n",
       "      <th>ADM0_A3</th>\n",
       "      <th>ADM1NAME</th>\n",
       "      <th>ISO_A2</th>\n",
       "      <th>NOTE</th>\n",
       "      <th>LATITUDE</th>\n",
       "      <th>LONGITUDE</th>\n",
       "      <th>CHANGED</th>\n",
       "      <th>NAMEDIFF</th>\n",
       "      <th>DIFFNOTE</th>\n",
       "      <th>POP_MAX</th>\n",
       "      <th>POP_MIN</th>\n",
       "      <th>POP_OTHER</th>\n",
       "      <th>RANK_MAX</th>\n",
       "      <th>OID_</th>\n",
       "      <th>City</th>\n",
       "      <th>Frequency</th>\n",
       "      <th>Lat</th>\n",
       "      <th>Long</th>\n",
       "      <th>geometry</th>\n",
       "    </tr>\n",
       "  </thead>\n",
       "  <tbody>\n",
       "    <tr>\n",
       "      <th>0</th>\n",
       "      <td>HUN</td>\n",
       "      <td>Hajdú-Bihar</td>\n",
       "      <td>HU</td>\n",
       "      <td>None</td>\n",
       "      <td>47.530470</td>\n",
       "      <td>21.630039</td>\n",
       "      <td>0.0</td>\n",
       "      <td>0</td>\n",
       "      <td>None</td>\n",
       "      <td>231286</td>\n",
       "      <td>204124</td>\n",
       "      <td>223992</td>\n",
       "      <td>10</td>\n",
       "      <td>19</td>\n",
       "      <td>Debrecen</td>\n",
       "      <td>5</td>\n",
       "      <td>47.530470</td>\n",
       "      <td>21.630039</td>\n",
       "      <td>POINT (21.6300386136 47.5304695832)</td>\n",
       "    </tr>\n",
       "    <tr>\n",
       "      <th>1</th>\n",
       "      <td>POL</td>\n",
       "      <td>Silesian</td>\n",
       "      <td>PL</td>\n",
       "      <td>None</td>\n",
       "      <td>50.330376</td>\n",
       "      <td>18.670013</td>\n",
       "      <td>0.0</td>\n",
       "      <td>0</td>\n",
       "      <td>None</td>\n",
       "      <td>507670</td>\n",
       "      <td>198835</td>\n",
       "      <td>314378</td>\n",
       "      <td>11</td>\n",
       "      <td>26</td>\n",
       "      <td>Gliwice</td>\n",
       "      <td>3</td>\n",
       "      <td>50.330376</td>\n",
       "      <td>18.670013</td>\n",
       "      <td>POINT (18.6700125719 50.3303761994)</td>\n",
       "    </tr>\n",
       "    <tr>\n",
       "      <th>2</th>\n",
       "      <td>POL</td>\n",
       "      <td>Lódz</td>\n",
       "      <td>PL</td>\n",
       "      <td>None</td>\n",
       "      <td>51.774991</td>\n",
       "      <td>19.451360</td>\n",
       "      <td>1.0</td>\n",
       "      <td>0</td>\n",
       "      <td>Changed scale rank.</td>\n",
       "      <td>758000</td>\n",
       "      <td>758000</td>\n",
       "      <td>838378</td>\n",
       "      <td>11</td>\n",
       "      <td>0</td>\n",
       "      <td>Lodz</td>\n",
       "      <td>12</td>\n",
       "      <td>51.774991</td>\n",
       "      <td>19.451360</td>\n",
       "      <td>POINT (19.4513602282 51.7749908642)</td>\n",
       "    </tr>\n",
       "    <tr>\n",
       "      <th>3</th>\n",
       "      <td>USA</td>\n",
       "      <td>Ohio</td>\n",
       "      <td>US</td>\n",
       "      <td>None</td>\n",
       "      <td>41.469987</td>\n",
       "      <td>-81.694998</td>\n",
       "      <td>0.0</td>\n",
       "      <td>0</td>\n",
       "      <td>None</td>\n",
       "      <td>1890000</td>\n",
       "      <td>449514</td>\n",
       "      <td>1711162</td>\n",
       "      <td>12</td>\n",
       "      <td>18</td>\n",
       "      <td>Cleveland</td>\n",
       "      <td>5</td>\n",
       "      <td>41.469987</td>\n",
       "      <td>-81.694998</td>\n",
       "      <td>POINT (-81.69499821140001 41.4699867951)</td>\n",
       "    </tr>\n",
       "    <tr>\n",
       "      <th>4</th>\n",
       "      <td>NOR</td>\n",
       "      <td>Hordaland</td>\n",
       "      <td>NO</td>\n",
       "      <td>None</td>\n",
       "      <td>60.391002</td>\n",
       "      <td>5.324522</td>\n",
       "      <td>4.0</td>\n",
       "      <td>0</td>\n",
       "      <td>Location adjusted.</td>\n",
       "      <td>213585</td>\n",
       "      <td>187194</td>\n",
       "      <td>0</td>\n",
       "      <td>10</td>\n",
       "      <td>13</td>\n",
       "      <td>Bergen</td>\n",
       "      <td>10</td>\n",
       "      <td>60.391002</td>\n",
       "      <td>5.324522</td>\n",
       "      <td>POINT (5.32452225609 60.3910024202)</td>\n",
       "    </tr>\n",
       "  </tbody>\n",
       "</table>\n",
       "</div>"
      ],
      "text/plain": [
       "  ADM0_A3     ADM1NAME ISO_A2  NOTE   LATITUDE  LONGITUDE  CHANGED  NAMEDIFF  \\\n",
       "0     HUN  Hajdú-Bihar     HU  None  47.530470  21.630039      0.0         0   \n",
       "1     POL     Silesian     PL  None  50.330376  18.670013      0.0         0   \n",
       "2     POL         Lódz     PL  None  51.774991  19.451360      1.0         0   \n",
       "3     USA         Ohio     US  None  41.469987 -81.694998      0.0         0   \n",
       "4     NOR    Hordaland     NO  None  60.391002   5.324522      4.0         0   \n",
       "\n",
       "              DIFFNOTE  POP_MAX  POP_MIN  POP_OTHER  RANK_MAX  OID_  \\\n",
       "0                 None   231286   204124     223992        10    19   \n",
       "1                 None   507670   198835     314378        11    26   \n",
       "2  Changed scale rank.   758000   758000     838378        11     0   \n",
       "3                 None  1890000   449514    1711162        12    18   \n",
       "4   Location adjusted.   213585   187194          0        10    13   \n",
       "\n",
       "        City  Frequency        Lat       Long  \\\n",
       "0   Debrecen          5  47.530470  21.630039   \n",
       "1    Gliwice          3  50.330376  18.670013   \n",
       "2       Lodz         12  51.774991  19.451360   \n",
       "3  Cleveland          5  41.469987 -81.694998   \n",
       "4     Bergen         10  60.391002   5.324522   \n",
       "\n",
       "                                   geometry  \n",
       "0       POINT (21.6300386136 47.5304695832)  \n",
       "1       POINT (18.6700125719 50.3303761994)  \n",
       "2       POINT (19.4513602282 51.7749908642)  \n",
       "3  POINT (-81.69499821140001 41.4699867951)  \n",
       "4       POINT (5.32452225609 60.3910024202)  "
      ]
     },
     "execution_count": 4,
     "metadata": {},
     "output_type": "execute_result"
    }
   ],
   "source": [
    "cities_shp.head()"
   ]
  },
  {
   "cell_type": "code",
   "execution_count": 5,
   "metadata": {},
   "outputs": [
    {
     "data": {
      "text/html": [
       "<div>\n",
       "<style scoped>\n",
       "    .dataframe tbody tr th:only-of-type {\n",
       "        vertical-align: middle;\n",
       "    }\n",
       "\n",
       "    .dataframe tbody tr th {\n",
       "        vertical-align: top;\n",
       "    }\n",
       "\n",
       "    .dataframe thead th {\n",
       "        text-align: right;\n",
       "    }\n",
       "</style>\n",
       "<table border=\"1\" class=\"dataframe\">\n",
       "  <thead>\n",
       "    <tr style=\"text-align: right;\">\n",
       "      <th></th>\n",
       "      <th>featurecla</th>\n",
       "      <th>scalerank</th>\n",
       "      <th>LABELRANK</th>\n",
       "      <th>SOVEREIGNT</th>\n",
       "      <th>SOV_A3</th>\n",
       "      <th>ADM0_DIF</th>\n",
       "      <th>LEVEL</th>\n",
       "      <th>TYPE</th>\n",
       "      <th>ADMIN</th>\n",
       "      <th>ADM0_A3</th>\n",
       "      <th>...</th>\n",
       "      <th>NAME_TR</th>\n",
       "      <th>NAME_VI</th>\n",
       "      <th>NAME_ZH</th>\n",
       "      <th>OID_</th>\n",
       "      <th>Country</th>\n",
       "      <th>Frequency</th>\n",
       "      <th>OID1</th>\n",
       "      <th>Country_1</th>\n",
       "      <th>Frequenc_1</th>\n",
       "      <th>geometry</th>\n",
       "    </tr>\n",
       "  </thead>\n",
       "  <tbody>\n",
       "    <tr>\n",
       "      <th>0</th>\n",
       "      <td>Admin-0 country</td>\n",
       "      <td>3</td>\n",
       "      <td>3</td>\n",
       "      <td>United Kingdom</td>\n",
       "      <td>GB1</td>\n",
       "      <td>1</td>\n",
       "      <td>2</td>\n",
       "      <td>Dependency</td>\n",
       "      <td>Dhekelia Sovereign Base Area</td>\n",
       "      <td>ESB</td>\n",
       "      <td>...</td>\n",
       "      <td>Dhekelia Kantonu</td>\n",
       "      <td>Căn cứ quân sự Dhekelia</td>\n",
       "      <td>None</td>\n",
       "      <td>8</td>\n",
       "      <td>United Kingdom</td>\n",
       "      <td>14</td>\n",
       "      <td>8</td>\n",
       "      <td>United Kingdom</td>\n",
       "      <td>14</td>\n",
       "      <td>POLYGON ((33.78093509200005 34.97634511900009,...</td>\n",
       "    </tr>\n",
       "    <tr>\n",
       "      <th>1</th>\n",
       "      <td>Admin-0 country</td>\n",
       "      <td>0</td>\n",
       "      <td>3</td>\n",
       "      <td>Ukraine</td>\n",
       "      <td>UKR</td>\n",
       "      <td>0</td>\n",
       "      <td>2</td>\n",
       "      <td>Sovereign country</td>\n",
       "      <td>Ukraine</td>\n",
       "      <td>UKR</td>\n",
       "      <td>...</td>\n",
       "      <td>Ukrayna</td>\n",
       "      <td>Ukraina</td>\n",
       "      <td>乌克兰</td>\n",
       "      <td>11</td>\n",
       "      <td>Ukraine</td>\n",
       "      <td>3</td>\n",
       "      <td>11</td>\n",
       "      <td>Ukraine</td>\n",
       "      <td>3</td>\n",
       "      <td>(POLYGON ((31.76434493000005 52.10056772900005...</td>\n",
       "    </tr>\n",
       "    <tr>\n",
       "      <th>2</th>\n",
       "      <td>Admin-0 country</td>\n",
       "      <td>0</td>\n",
       "      <td>2</td>\n",
       "      <td>Russia</td>\n",
       "      <td>RUS</td>\n",
       "      <td>0</td>\n",
       "      <td>2</td>\n",
       "      <td>Sovereign country</td>\n",
       "      <td>Russia</td>\n",
       "      <td>RUS</td>\n",
       "      <td>...</td>\n",
       "      <td>Rusya</td>\n",
       "      <td>Nga</td>\n",
       "      <td>俄罗斯</td>\n",
       "      <td>1</td>\n",
       "      <td>Russia</td>\n",
       "      <td>35</td>\n",
       "      <td>1</td>\n",
       "      <td>Russia</td>\n",
       "      <td>35</td>\n",
       "      <td>(POLYGON ((87.81632409700006 49.16583730100008...</td>\n",
       "    </tr>\n",
       "    <tr>\n",
       "      <th>3</th>\n",
       "      <td>Admin-0 country</td>\n",
       "      <td>0</td>\n",
       "      <td>5</td>\n",
       "      <td>Czechia</td>\n",
       "      <td>CZE</td>\n",
       "      <td>0</td>\n",
       "      <td>2</td>\n",
       "      <td>Sovereign country</td>\n",
       "      <td>Czechia</td>\n",
       "      <td>CZE</td>\n",
       "      <td>...</td>\n",
       "      <td>Çek Cumhuriyeti</td>\n",
       "      <td>Cộng hòa Séc</td>\n",
       "      <td>捷克</td>\n",
       "      <td>6</td>\n",
       "      <td>Czechia</td>\n",
       "      <td>57</td>\n",
       "      <td>6</td>\n",
       "      <td>Czechia</td>\n",
       "      <td>57</td>\n",
       "      <td>POLYGON ((14.81039270000014 50.85844716400005,...</td>\n",
       "    </tr>\n",
       "    <tr>\n",
       "      <th>4</th>\n",
       "      <td>Admin-0 country</td>\n",
       "      <td>0</td>\n",
       "      <td>2</td>\n",
       "      <td>Germany</td>\n",
       "      <td>DEU</td>\n",
       "      <td>0</td>\n",
       "      <td>2</td>\n",
       "      <td>Sovereign country</td>\n",
       "      <td>Germany</td>\n",
       "      <td>DEU</td>\n",
       "      <td>...</td>\n",
       "      <td>Almanya</td>\n",
       "      <td>Đức</td>\n",
       "      <td>德国</td>\n",
       "      <td>13</td>\n",
       "      <td>Germany</td>\n",
       "      <td>74</td>\n",
       "      <td>13</td>\n",
       "      <td>Germany</td>\n",
       "      <td>74</td>\n",
       "      <td>(POLYGON ((13.81572473100007 48.76643015600006...</td>\n",
       "    </tr>\n",
       "  </tbody>\n",
       "</table>\n",
       "<p>5 rows × 101 columns</p>\n",
       "</div>"
      ],
      "text/plain": [
       "        featurecla  scalerank  LABELRANK      SOVEREIGNT SOV_A3  ADM0_DIF  \\\n",
       "0  Admin-0 country          3          3  United Kingdom    GB1         1   \n",
       "1  Admin-0 country          0          3         Ukraine    UKR         0   \n",
       "2  Admin-0 country          0          2          Russia    RUS         0   \n",
       "3  Admin-0 country          0          5         Czechia    CZE         0   \n",
       "4  Admin-0 country          0          2         Germany    DEU         0   \n",
       "\n",
       "   LEVEL               TYPE                         ADMIN ADM0_A3  ...  \\\n",
       "0      2         Dependency  Dhekelia Sovereign Base Area     ESB  ...   \n",
       "1      2  Sovereign country                       Ukraine     UKR  ...   \n",
       "2      2  Sovereign country                        Russia     RUS  ...   \n",
       "3      2  Sovereign country                       Czechia     CZE  ...   \n",
       "4      2  Sovereign country                       Germany     DEU  ...   \n",
       "\n",
       "            NAME_TR                  NAME_VI NAME_ZH  OID_         Country  \\\n",
       "0  Dhekelia Kantonu  Căn cứ quân sự Dhekelia    None     8  United Kingdom   \n",
       "1           Ukrayna                  Ukraina     乌克兰    11         Ukraine   \n",
       "2             Rusya                      Nga     俄罗斯     1          Russia   \n",
       "3   Çek Cumhuriyeti             Cộng hòa Séc      捷克     6         Czechia   \n",
       "4           Almanya                      Đức      德国    13         Germany   \n",
       "\n",
       "  Frequency  OID1       Country_1 Frequenc_1  \\\n",
       "0        14     8  United Kingdom         14   \n",
       "1         3    11         Ukraine          3   \n",
       "2        35     1          Russia         35   \n",
       "3        57     6         Czechia         57   \n",
       "4        74    13         Germany         74   \n",
       "\n",
       "                                            geometry  \n",
       "0  POLYGON ((33.78093509200005 34.97634511900009,...  \n",
       "1  (POLYGON ((31.76434493000005 52.10056772900005...  \n",
       "2  (POLYGON ((87.81632409700006 49.16583730100008...  \n",
       "3  POLYGON ((14.81039270000014 50.85844716400005,...  \n",
       "4  (POLYGON ((13.81572473100007 48.76643015600006...  \n",
       "\n",
       "[5 rows x 101 columns]"
      ]
     },
     "execution_count": 5,
     "metadata": {},
     "output_type": "execute_result"
    }
   ],
   "source": [
    "# read another shapefile\n",
    "countries_shp=gpd.read_file(os.path.join(\"./\",\"Counties_14_new.shp\"))\n",
    "type(countries_shp)\n",
    "countries_shp.head()"
   ]
  },
  {
   "cell_type": "code",
   "execution_count": 6,
   "metadata": {},
   "outputs": [
    {
     "data": {
      "text/plain": [
       "<matplotlib.axes._subplots.AxesSubplot at 0x7fa511acb810>"
      ]
     },
     "execution_count": 6,
     "metadata": {},
     "output_type": "execute_result"
    },
    {
     "data": {
      "image/png": "[encoded data removed]",
      "text/plain": [
       "<Figure size 432x288 with 1 Axes>"
      ]
     },
     "metadata": {
      "needs_background": "light"
     },
     "output_type": "display_data"
    }
   ],
   "source": [
    "# mapping \n",
    "cities_shp.plot()"
   ]
  },
  {
   "cell_type": "code",
   "execution_count": 7,
   "metadata": {},
   "outputs": [
    {
     "data": {
      "text/plain": [
       "<matplotlib.axes._subplots.AxesSubplot at 0x7fa511769350>"
      ]
     },
     "execution_count": 7,
     "metadata": {},
     "output_type": "execute_result"
    },
    {
     "data": {
      "image/png": "[encoded data removed]",
      "text/plain": [
       "<Figure size 432x288 with 1 Axes>"
      ]
     },
     "metadata": {
      "needs_background": "light"
     },
     "output_type": "display_data"
    }
   ],
   "source": [
    "countries_shp.plot(cmap=\"tab10\")"
   ]
  },
  {
   "cell_type": "code",
   "execution_count": 8,
   "metadata": {
    "scrolled": true
   },
   "outputs": [
    {
     "name": "stdout",
     "output_type": "stream",
     "text": [
      "(-88.16638245929974, 54.12521794789974) (37.789734538107, 61.496161082092996)\n"
     ]
    },
    {
     "data": {
      "image/png": "[encoded data removed]",
      "text/plain": [
       "<Figure size 1080x144 with 2 Axes>"
      ]
     },
     "metadata": {
      "needs_background": "light"
     },
     "output_type": "display_data"
    }
   ],
   "source": [
    "cities_shp.plot(column='Frequency', cmap='rainbow', legend=True,k=5, figsize=(15,2),legend_kwds={'loc':'lower left'})\n",
    "# plt.title('2010 Population Distribution in Massachusetts', fontsize=20)\n",
    "print plt.xlim(), plt.ylim()"
   ]
  },
  {
   "cell_type": "code",
   "execution_count": 9,
   "metadata": {},
   "outputs": [
    {
     "name": "stdout",
     "output_type": "stream",
     "text": [
      "(-88.16390209572529, 54.1225965640281) (37.80263271425258, 61.48187482668431)\n"
     ]
    },
    {
     "data": {
      "image/png": "[encoded data removed]",
      "text/plain": [
       "<Figure size 1080x144 with 1 Axes>"
      ]
     },
     "metadata": {
      "needs_background": "light"
     },
     "output_type": "display_data"
    }
   ],
   "source": [
    "# add legend to the map\n",
    "cities_shp.plot(markersize=\"Frequency\", color=\"blue\",legend=True,k=5, figsize=(15,2),legend_kwds={'loc':'lower left'})\n",
    "# plt.title('2010 Population Distribution in Massachusetts', fontsize=20)\n",
    "print plt.xlim(), plt.ylim()\n",
    "# \n",
    "l1 = plt.scatter([],[], s=1, color=\"blue\",edgecolors='none')\n",
    "l2 = plt.scatter([],[], s=35, color=\"blue\",edgecolors='none')\n",
    "l3 = plt.scatter([],[], s=70, color=\"blue\", edgecolors='none')\n",
    "l4 = plt.scatter([],[], s=100, color=\"blue\",edgecolors='none')\n",
    "\n",
    "labels = [\"1\", \"35\", \"70\", \"100\"]\n",
    "\n",
    "\n",
    "leg = plt.legend([l1, l2, l3, l4], labels, ncol=4, frameon=True, fontsize=7,\n",
    "handlelength=2, loc = 8, borderpad = 1.8,\n",
    "handletextpad=1, scatterpoints = 1)"
   ]
  },
  {
   "cell_type": "code",
   "execution_count": 10,
   "metadata": {},
   "outputs": [
    {
     "name": "stdout",
     "output_type": "stream",
     "text": [
      "(-197.99999999999991, 198.0) (-66.53932463939996, 88.92528310740009)\n"
     ]
    },
    {
     "data": {
      "image/png": "[encoded data removed]",
      "text/plain": [
       "<Figure size 1440x360 with 2 Axes>"
      ]
     },
     "metadata": {
      "needs_background": "light"
     },
     "output_type": "display_data"
    }
   ],
   "source": [
    "# change the color scheme for the map\n",
    "countries_shp.plot(column='Frequency', cmap='OrRd', legend=True,k=5, figsize=(20,5),legend_kwds={'loc':'lower left'})\n",
    "# plt.title('2010 Population Distribution in Massachusetts', fontsize=20)\n",
    "print plt.xlim(), plt.ylim()"
   ]
  },
  {
   "cell_type": "code",
   "execution_count": 26,
   "metadata": {},
   "outputs": [
    {
     "data": {
      "image/png": "[encoded data removed]",
      "text/plain": [
       "<Figure size 1440x360 with 2 Axes>"
      ]
     },
     "metadata": {
      "needs_background": "light"
     },
     "output_type": "display_data"
    }
   ],
   "source": [
    "# map multiple layers \n",
    "ax_countries=countries_shp.plot(column='Frequency', cmap='OrRd', legend=True,k=5, figsize=(20,5),legend_kwds={'loc':'lower left'})\n",
    "cities_shp.plot(ax=ax_countries,markersize=\"Frequency\", color=\"blue\")\n",
    "\n",
    "# plt.title('2010 Population Distribution in Massachusetts', fontsize=20)\n",
    "# add legend\n",
    "l1 = plt.scatter([],[], s=1, color=\"blue\",edgecolors='none')\n",
    "l2 = plt.scatter([],[], s=35, color=\"blue\",edgecolors='none')\n",
    "l3 = plt.scatter([],[], s=70, color=\"blue\", edgecolors='none')\n",
    "l4 = plt.scatter([],[], s=100, color=\"blue\",edgecolors='none')\n",
    "\n",
    "labels = [\"1\", \"35\", \"70\", \"100\"]\n",
    "\n",
    "\n",
    "leg = plt.legend([l1, l2, l3, l4], labels, ncol=4, frameon=True, fontsize=7,\n",
    "handlelength=2, loc = 8, borderpad = 1.8,\n",
    "handletextpad=1, scatterpoints = 1)"
   ]
  },
  {
   "cell_type": "code",
   "execution_count": 24,
   "metadata": {},
   "outputs": [],
   "source": [
    "# countries_shp.plot() it works!!!\n",
    "\n",
    "# fig, ax = plt.subplots()\n",
    "ax=countries_shp.plot(column='Frequency', cmap='OrRd', legend=True,k=5, figsize=(20,5),legend_kwds={'loc':'lower left'})\n",
    "cities_shp.plot(markersize=\"Frequency\", color=\"blue\",ax=ax)\n",
    "\n",
    "mplleaflet.display(fig=ax.figure, crs=countries_shp.crs)\n",
    "mplleaflet.show(fig=ax.figure, crs=countries_shp.crs)\n"
   ]
  },
  {
   "cell_type": "code",
   "execution_count": 27,
   "metadata": {
    "scrolled": false
   },
   "outputs": [],
   "source": [
    "# save map to a html file\n",
    "mplleaflet.show(fig=ax.figure, crs=countries_shp.crs, tiles='cartodb_positron', path='cities_countries.html')"
   ]
  },
  {
   "cell_type": "code",
   "execution_count": null,
   "metadata": {},
   "outputs": [],
   "source": [
    "# plot interactively\n",
    "\n",
    "mplleaflet.display(fig=ax.figure, crs=countries_shp.crs)"
   ]
  },
  {
   "cell_type": "code",
   "execution_count": 25,
   "metadata": {},
   "outputs": [
    {
     "data": {
      "text/html": [
       "<iframe src='_map.html' width=1000 height=600/>"
      ],
      "text/plain": [
       "<IPython.core.display.HTML object>"
      ]
     },
     "metadata": {},
     "output_type": "display_data"
    }
   ],
   "source": [
    "%%html\n",
    "<iframe src='_map.html' width=1000 height=600/>"
   ]
  },
  {
   "cell_type": "code",
   "execution_count": null,
   "metadata": {},
   "outputs": [],
   "source": []
  }
 ],
 "metadata": {
  "kernelspec": {
   "display_name": "Python 2",
   "language": "python",
   "name": "python2"
  },
  "language_info": {
   "codemirror_mode": {
    "name": "ipython",
    "version": 2
   },
   "file_extension": ".py",
   "mimetype": "text/x-python",
   "name": "python",
   "nbconvert_exporter": "python",
   "pygments_lexer": "ipython2",
   "version": "2.7.15"
  }
 },
 "nbformat": 4,
 "nbformat_minor": 2
}
